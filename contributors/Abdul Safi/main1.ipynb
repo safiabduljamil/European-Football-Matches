{
 "cells": [
  {
   "cell_type": "code",
   "execution_count": 1,
   "metadata": {},
   "outputs": [
    {
     "name": "stdout",
     "output_type": "stream",
     "text": [
      "Loaded data for 22 leagues: ['Bundesliga 2', 'Bundesliga', 'English Championship', 'English Conference', 'English League 1', 'English League 2', 'English Premier League', 'Eredivisie', 'Greek Super League', 'Jupiler League', 'La Liga 2', 'La Liga', 'Liga Portugal', 'Ligue 1', 'Ligue 2', 'Scottish Division 1', 'Scottish Division 2', 'Scottish Division 3', 'Scottish Premier League', 'Serie A', 'Serie B', 'Super Lig']\n"
     ]
    }
   ],
   "source": [
    "import os\n",
    "import pandas as pd\n",
    "import glob\n",
    "\n",
    "# Load all league CSV files from the shared-data folder\n",
    "filepaths = glob.glob('../../shared-data/*.csv')\n",
    "league_dfs = {}\n",
    "\n",
    "for filepath in filepaths:\n",
    "    # Extract league name in a clean, cross-platform way\n",
    "    league_name = os.path.splitext(os.path.basename(filepath))[0]\n",
    "    df = pd.read_csv(filepath)\n",
    "\n",
    "    if 'FT' in df.columns:\n",
    "        df[['HomeGoals', 'AwayGoals']] = df['FT'].str.split('-', expand=True).astype(int)\n",
    "\n",
    "    league_dfs[league_name] = df\n",
    "\n",
    "print(f\"Loaded data for {len(league_dfs)} leagues: {list(league_dfs.keys())}\")\n"
   ]
  },
  {
   "cell_type": "code",
   "execution_count": null,
   "metadata": {},
   "outputs": [],
   "source": [
    "*"
   ]
  }
 ],
 "metadata": {
  "kernelspec": {
   "display_name": "base",
   "language": "python",
   "name": "python3"
  },
  "language_info": {
   "codemirror_mode": {
    "name": "ipython",
    "version": 3
   },
   "file_extension": ".py",
   "mimetype": "text/x-python",
   "name": "python",
   "nbconvert_exporter": "python",
   "pygments_lexer": "ipython3",
   "version": "3.12.3"
  }
 },
 "nbformat": 4,
 "nbformat_minor": 2
}
