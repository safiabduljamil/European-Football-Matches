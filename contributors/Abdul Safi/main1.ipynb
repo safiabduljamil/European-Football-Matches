{
 "cells": [
  {
   "cell_type": "markdown",
   "id": "b7489c95",
   "metadata": {},
   "source": [
    "\n",
    "# 📊 Notebook 2: Prognose von Fußballergebnissen\n",
    "\n",
    "In diesem Notebook untersuchen wir, inwieweit Fußballspiele mithilfe historischer Daten vorhergesagt werden können.\n",
    "\n",
    "## 🎯 Ziel:\n",
    "1. **Klassifikation**: Vorhersage des Ergebnisses (Heimsieg, Unentschieden, Auswärtssieg)\n",
    "2. **Regression**: Vorhersage der genauen Anzahl an Toren (für Heim- und Auswärtsteam)\n"
   ]
  },
  {
   "cell_type": "code",
   "execution_count": 1,
   "id": "4565cc39",
   "metadata": {},
   "outputs": [
    {
     "data": {
      "text/html": [
       "<div>\n",
       "<style scoped>\n",
       "    .dataframe tbody tr th:only-of-type {\n",
       "        vertical-align: middle;\n",
       "    }\n",
       "\n",
       "    .dataframe tbody tr th {\n",
       "        vertical-align: top;\n",
       "    }\n",
       "\n",
       "    .dataframe thead th {\n",
       "        text-align: right;\n",
       "    }\n",
       "</style>\n",
       "<table border=\"1\" class=\"dataframe\">\n",
       "  <thead>\n",
       "    <tr style=\"text-align: right;\">\n",
       "      <th></th>\n",
       "      <th>League</th>\n",
       "      <th>Date</th>\n",
       "      <th>HomeTeam</th>\n",
       "      <th>AwayTeam</th>\n",
       "      <th>HomeGoals</th>\n",
       "      <th>AwayGoals</th>\n",
       "    </tr>\n",
       "  </thead>\n",
       "  <tbody>\n",
       "    <tr>\n",
       "      <th>0</th>\n",
       "      <td>Bundesliga 2</td>\n",
       "      <td>28/07/93</td>\n",
       "      <td>Chemnitz</td>\n",
       "      <td>Wuppertaler</td>\n",
       "      <td>0.0</td>\n",
       "      <td>0.0</td>\n",
       "    </tr>\n",
       "    <tr>\n",
       "      <th>1</th>\n",
       "      <td>Bundesliga 2</td>\n",
       "      <td>28/07/93</td>\n",
       "      <td>CZ Jena</td>\n",
       "      <td>Hertha</td>\n",
       "      <td>1.0</td>\n",
       "      <td>1.0</td>\n",
       "    </tr>\n",
       "    <tr>\n",
       "      <th>2</th>\n",
       "      <td>Bundesliga 2</td>\n",
       "      <td>28/07/93</td>\n",
       "      <td>Hansa Rostock</td>\n",
       "      <td>Munich 1860</td>\n",
       "      <td>4.0</td>\n",
       "      <td>0.0</td>\n",
       "    </tr>\n",
       "    <tr>\n",
       "      <th>3</th>\n",
       "      <td>Bundesliga 2</td>\n",
       "      <td>28/07/93</td>\n",
       "      <td>Homburg</td>\n",
       "      <td>St Pauli</td>\n",
       "      <td>2.0</td>\n",
       "      <td>1.0</td>\n",
       "    </tr>\n",
       "    <tr>\n",
       "      <th>4</th>\n",
       "      <td>Bundesliga 2</td>\n",
       "      <td>28/07/93</td>\n",
       "      <td>Mannheim</td>\n",
       "      <td>F Koln</td>\n",
       "      <td>1.0</td>\n",
       "      <td>1.0</td>\n",
       "    </tr>\n",
       "  </tbody>\n",
       "</table>\n",
       "</div>"
      ],
      "text/plain": [
       "         League      Date       HomeTeam     AwayTeam  HomeGoals  AwayGoals\n",
       "0  Bundesliga 2  28/07/93       Chemnitz  Wuppertaler        0.0        0.0\n",
       "1  Bundesliga 2  28/07/93        CZ Jena       Hertha        1.0        1.0\n",
       "2  Bundesliga 2  28/07/93  Hansa Rostock  Munich 1860        4.0        0.0\n",
       "3  Bundesliga 2  28/07/93        Homburg     St Pauli        2.0        1.0\n",
       "4  Bundesliga 2  28/07/93       Mannheim       F Koln        1.0        1.0"
      ]
     },
     "execution_count": 1,
     "metadata": {},
     "output_type": "execute_result"
    }
   ],
   "source": [
    "\n",
    "import pandas as pd\n",
    "import os\n",
    "\n",
    "# Datenpfad anpassen\n",
    "directory = '../../shared-data'\n",
    "\n",
    "# Alle CSV-Dateien laden\n",
    "data_frames = []\n",
    "for filename in os.listdir(directory):\n",
    "    if filename.endswith('.csv'):\n",
    "        df = pd.read_csv(os.path.join(directory, filename))\n",
    "        df['League'] = filename.replace('.csv', '')\n",
    "        data_frames.append(df)\n",
    "\n",
    "# Alle Daten zusammenführen\n",
    "combined_df = pd.concat(data_frames, ignore_index=True)\n",
    "combined_df = combined_df[['League', 'Date', 'HomeTeam', 'AwayTeam', 'HomeGoals', 'AwayGoals']]\n",
    "combined_df.dropna(inplace=True)\n",
    "combined_df.head()\n"
   ]
  },
  {
   "cell_type": "code",
   "execution_count": 2,
   "id": "a8a15e01",
   "metadata": {},
   "outputs": [],
   "source": [
    "from sklearn.preprocessing import LabelEncoder\n",
    "# Ergebnis erstellen: Klassifikation\n",
    "def get_result(row):\n",
    "    if row['HomeGoals'] > row['AwayGoals']:\n",
    "        return 'HomeWin'\n",
    "    elif row['HomeGoals'] < row['AwayGoals']:\n",
    "        return 'AwayWin'\n",
    "    else:\n",
    "        return 'Draw'\n",
    "\n",
    "combined_df['Result'] = combined_df.apply(get_result, axis=1)\n",
    "\n",
    "# Label-Encoding für Teams\n",
    "from sklearn.preprocessing import LabelEncoder\n",
    "\n",
    "le_home = LabelEncoder()\n",
    "le_away = LabelEncoder()\n",
    "combined_df['HomeTeam_enc'] = le_home.fit_transform(combined_df['HomeTeam'])\n",
    "combined_df['AwayTeam_enc'] = le_away.fit_transform(combined_df['AwayTeam'])\n"
   ]
  },
  {
   "cell_type": "code",
   "execution_count": 3,
   "id": "e65c8377",
   "metadata": {},
   "outputs": [
    {
     "name": "stdout",
     "output_type": "stream",
     "text": [
      "[[ 5834  3638  8512]\n",
      " [ 4360  3715  9519]\n",
      " [ 6104  5585 17798]]\n",
      "              precision    recall  f1-score   support\n",
      "\n",
      "     AwayWin       0.36      0.32      0.34     17984\n",
      "        Draw       0.29      0.21      0.24     17594\n",
      "     HomeWin       0.50      0.60      0.54     29487\n",
      "\n",
      "    accuracy                           0.42     65065\n",
      "   macro avg       0.38      0.38      0.38     65065\n",
      "weighted avg       0.40      0.42      0.41     65065\n",
      "\n"
     ]
    }
   ],
   "source": [
    "\n",
    "from sklearn.model_selection import train_test_split\n",
    "from sklearn.ensemble import RandomForestClassifier\n",
    "from sklearn.metrics import classification_report, confusion_matrix\n",
    "\n",
    "# Feature- und Zielvariablen\n",
    "X = combined_df[['HomeTeam_enc', 'AwayTeam_enc']]\n",
    "y = combined_df['Result']\n",
    "\n",
    "# Trainings-/Testdaten splitten\n",
    "X_train, X_test, y_train, y_test = train_test_split(X, y, test_size=0.3, random_state=42)\n",
    "\n",
    "# Klassifikationsmodell trainieren\n",
    "clf = RandomForestClassifier(n_estimators=100, random_state=42)\n",
    "clf.fit(X_train, y_train)\n",
    "\n",
    "# Vorhersagen und Bewertung\n",
    "y_pred = clf.predict(X_test)\n",
    "print(confusion_matrix(y_test, y_pred))\n",
    "print(classification_report(y_test, y_pred))\n"
   ]
  },
  {
   "cell_type": "code",
   "execution_count": 4,
   "id": "0999375a",
   "metadata": {},
   "outputs": [
    {
     "name": "stdout",
     "output_type": "stream",
     "text": [
      "MAE Heimtore: 1.0436418421458713\n",
      "MAE Auswärtstore: 0.9117582637080689\n"
     ]
    }
   ],
   "source": [
    "\n",
    "from sklearn.ensemble import RandomForestRegressor\n",
    "from sklearn.metrics import mean_absolute_error\n",
    "\n",
    "# Regression für HomeGoals\n",
    "y_home = combined_df['HomeGoals']\n",
    "X_train_home, X_test_home, y_train_home, y_test_home = train_test_split(X, y_home, test_size=0.3, random_state=42)\n",
    "\n",
    "reg_home = RandomForestRegressor(n_estimators=100, random_state=42)\n",
    "reg_home.fit(X_train_home, y_train_home)\n",
    "pred_home = reg_home.predict(X_test_home)\n",
    "print(\"MAE Heimtore:\", mean_absolute_error(y_test_home, pred_home))\n",
    "\n",
    "# Regression für AwayGoals\n",
    "y_away = combined_df['AwayGoals']\n",
    "X_train_away, X_test_away, y_train_away, y_test_away = train_test_split(X, y_away, test_size=0.3, random_state=42)\n",
    "\n",
    "reg_away = RandomForestRegressor(n_estimators=100, random_state=42)\n",
    "reg_away.fit(X_train_away, y_train_away)\n",
    "pred_away = reg_away.predict(X_test_away)\n",
    "print(\"MAE Auswärtstore:\", mean_absolute_error(y_test_away, pred_away))\n"
   ]
  },
  {
   "cell_type": "markdown",
   "id": "7468a9cc",
   "metadata": {},
   "source": [
    "\n",
    "## 📝 Fazit\n",
    "\n",
    "- Die **Klassifikation** zeigt, dass das Modell einfache Vorhersagen wie Heimsieg, Unentschieden oder Auswärtssieg treffen kann, basierend nur auf Teamnamen.\n",
    "- Die **Regression** hat durchschnittliche Abweichungen von ca. 0.8–1.2 Toren.\n",
    "- Für genauere Vorhersagen müsste man mehr Features (z. B. Formkurve, Spielerstatistiken, Heimvorteil über Saisons) einbauen.\n",
    "\n",
    "➡️ Dieses Notebook bietet eine einfache, aber funktionierende Grundlage für Spielprognosen.\n"
   ]
  }
 ],
 "metadata": {
  "kernelspec": {
   "display_name": "Python 3",
   "language": "python",
   "name": "python3"
  },
  "language_info": {
   "codemirror_mode": {
    "name": "ipython",
    "version": 3
   },
   "file_extension": ".py",
   "mimetype": "text/x-python",
   "name": "python",
   "nbconvert_exporter": "python",
   "pygments_lexer": "ipython3",
   "version": "3.12.6"
  }
 },
 "nbformat": 4,
 "nbformat_minor": 5
}
