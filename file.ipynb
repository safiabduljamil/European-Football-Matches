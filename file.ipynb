{
 "cells": [
  {
   "cell_type": "code",
   "execution_count": 3,
   "metadata": {},
   "outputs": [
    {
     "name": "stdout",
     "output_type": "stream",
     "text": [
      "              League        Date       HomeTeam      AwayTeam  HomeGoals  \\\n",
      "0       Bundesliga 2    28/07/93       Chemnitz   Wuppertaler        0.0   \n",
      "1       Bundesliga 2    28/07/93        CZ Jena        Hertha        1.0   \n",
      "2       Bundesliga 2    28/07/93  Hansa Rostock   Munich 1860        4.0   \n",
      "3       Bundesliga 2    28/07/93        Homburg      St Pauli        2.0   \n",
      "4       Bundesliga 2    28/07/93       Mannheim        F Koln        1.0   \n",
      "...              ...         ...            ...           ...        ...   \n",
      "433761     Super Lig  07/06/2023       Besiktas     Konyaspor        3.0   \n",
      "433762     Super Lig  07/06/2023     Fenerbahce     Gaziantep        3.0   \n",
      "433763     Super Lig  07/06/2023    Giresunspor   Antalyaspor        2.0   \n",
      "433764     Super Lig  07/06/2023      Hatayspor   Galatasaray        0.0   \n",
      "433765     Super Lig  07/06/2023   Istanbulspor  Umraniyespor        4.0   \n",
      "\n",
      "        AwayGoals Result  \n",
      "0             0.0      D  \n",
      "1             1.0      D  \n",
      "2             0.0      H  \n",
      "3             1.0      H  \n",
      "4             1.0      D  \n",
      "...           ...    ...  \n",
      "433761        3.0      D  \n",
      "433762        0.0      H  \n",
      "433763        0.0      H  \n",
      "433764        3.0      A  \n",
      "433765        0.0      H  \n",
      "\n",
      "[433766 rows x 7 columns]\n"
     ]
    }
   ],
   "source": [
    "import pandas as pd\n",
    "import os\n",
    "\n",
    "# Directory containing the Excel files\n",
    "directory = 'shared-data'\n",
    "\n",
    "# List to hold data from each file\n",
    "data_frames = []\n",
    "\n",
    "# Loop through all files in the directory\n",
    "for filename in os.listdir(directory):\n",
    "    if filename.endswith('.xlsx') or filename.endswith('.xls') or filename.endswith('csv'):\n",
    "        file_path = os.path.join(directory, filename)\n",
    "        # Read the Excel file\n",
    "        if filename.endswith('.csv'):\n",
    "            df = pd.read_csv(file_path)\n",
    "        else:\n",
    "            df = pd.read_excel(file_path, engine='openpyxl')\n",
    "        # Append the DataFrame to the list\n",
    "        data_frames.append(df)\n",
    "\n",
    "# Concatenate all DataFrames\n",
    "combined_df = pd.concat(data_frames, ignore_index=True)\n",
    "\n",
    "# Display the combined DataFrame\n",
    "print(combined_df)"
   ]
  },
  {
   "cell_type": "markdown",
   "metadata": {},
   "source": [
    "Zugewiesen an: Murat Arikan\n",
    "\n",
    "Anweisungen:  \n",
    "\n",
    "• Berechne den Prozentsatz der Heimsiege pro Liga über die Jahre. \n",
    "                 \n",
    "• Identifiziere Trends: Hat sich der Heimvorteil verändert? \n",
    "               \n",
    "• Führe eine statistische Analyse durch (Mittelwert, Varianz, Trendanalyse). \n",
    "              \n",
    "• Präsentiere die Ergebnisse in Tabellen oder Grafiken zur besseren Visualisierung."
   ]
  },
  {
   "cell_type": "code",
   "execution_count": 4,
   "metadata": {},
   "outputs": [
    {
     "name": "stdout",
     "output_type": "stream",
     "text": [
      "Shape: (433766, 7)\n",
      "\n",
      "Column Info:\n",
      "League        object\n",
      "Date          object\n",
      "HomeTeam      object\n",
      "AwayTeam      object\n",
      "HomeGoals    float64\n",
      "AwayGoals    float64\n",
      "Result        object\n",
      "dtype: object\n",
      "\n",
      "Preview:\n",
      "         League      Date       HomeTeam     AwayTeam  HomeGoals  AwayGoals  \\\n",
      "0  Bundesliga 2  28/07/93       Chemnitz  Wuppertaler        0.0        0.0   \n",
      "1  Bundesliga 2  28/07/93        CZ Jena       Hertha        1.0        1.0   \n",
      "2  Bundesliga 2  28/07/93  Hansa Rostock  Munich 1860        4.0        0.0   \n",
      "3  Bundesliga 2  28/07/93        Homburg     St Pauli        2.0        1.0   \n",
      "4  Bundesliga 2  28/07/93       Mannheim       F Koln        1.0        1.0   \n",
      "\n",
      "  Result  \n",
      "0      D  \n",
      "1      D  \n",
      "2      H  \n",
      "3      H  \n",
      "4      D  \n"
     ]
    }
   ],
   "source": [
    "# Basic Data Inspection\n",
    "\n",
    "# Check the shape of the dataset (rows, columns)\n",
    "print(\"Shape:\", combined_df.shape)\n",
    "\n",
    "# Show column names and types\n",
    "print(\"\\nColumn Info:\")\n",
    "print(combined_df.dtypes)\n",
    "\n",
    "# Show first few rows\n",
    "print(\"\\nPreview:\")\n",
    "print(combined_df.head())"
   ]
  },
  {
   "cell_type": "code",
   "execution_count": 5,
   "metadata": {},
   "outputs": [
    {
     "name": "stdout",
     "output_type": "stream",
     "text": [
      "\n",
      "Missing values per column:\n",
      "League       0\n",
      "Date         0\n",
      "HomeTeam     0\n",
      "AwayTeam     0\n",
      "HomeGoals    0\n",
      "AwayGoals    0\n",
      "Result       0\n",
      "dtype: int64\n"
     ]
    }
   ],
   "source": [
    "# Missing Values\n",
    "\n",
    "# Check for missing values\n",
    "print(\"\\nMissing values per column:\")\n",
    "print(combined_df.isnull().sum())"
   ]
  },
  {
   "cell_type": "code",
   "execution_count": 6,
   "metadata": {},
   "outputs": [
    {
     "name": "stdout",
     "output_type": "stream",
     "text": [
      "\n",
      "Unique leagues: ['Bundesliga 2' 'Bundesliga' 'Serie A' 'Ligue 1' 'Eredivisie' 'La Liga'\n",
      " 'English Championship' 'English Premier League' 'English League 2'\n",
      " 'English League 1' 'Scottish Division 1' 'Liga Portugal'\n",
      " 'Scottish Premier League' 'Greek Super League' 'Super Lig'\n",
      " 'Jupiler League' 'Ligue 2' 'La Liga 2' 'Scottish Division 2'\n",
      " 'Scottish Division 3' 'Serie B' 'English Conference']\n",
      "Unique match results: ['D' 'H' 'A']\n"
     ]
    }
   ],
   "source": [
    "# Unique Values for Categorical Columns\n",
    "\n",
    "# Check unique values for 'League' and 'Result'\n",
    "print(\"\\nUnique leagues:\", combined_df['League'].unique())\n",
    "print(\"Unique match results:\", combined_df['Result'].unique())"
   ]
  },
  {
   "cell_type": "code",
   "execution_count": 7,
   "metadata": {},
   "outputs": [
    {
     "name": "stdout",
     "output_type": "stream",
     "text": [
      "Duplicate rows: 216883\n"
     ]
    }
   ],
   "source": [
    "# Check for duplicate rows in the dataset\n",
    "# This helps ensure no match is counted more than once\n",
    "print(\"Duplicate rows:\", combined_df.duplicated().sum())"
   ]
  },
  {
   "cell_type": "code",
   "execution_count": 8,
   "metadata": {},
   "outputs": [
    {
     "name": "stdout",
     "output_type": "stream",
     "text": [
      "\n",
      "Date column preview:\n",
      "0    28/07/93\n",
      "1    28/07/93\n",
      "2    28/07/93\n",
      "3    28/07/93\n",
      "4    28/07/93\n",
      "Name: Date, dtype: object\n",
      "Date column type: object\n"
     ]
    }
   ],
   "source": [
    "# Check if 'Date' column was correctly parsed to datetime format\n",
    "# This is important for extracting the 'year' later\n",
    "print(\"\\nDate column preview:\")\n",
    "print(combined_df['Date'].head())\n",
    "print(\"Date column type:\", combined_df['Date'].dtype)"
   ]
  }
 ],
 "metadata": {
  "kernelspec": {
   "display_name": "Python 3",
   "language": "python",
   "name": "python3"
  },
  "language_info": {
   "codemirror_mode": {
    "name": "ipython",
    "version": 3
   },
   "file_extension": ".py",
   "mimetype": "text/x-python",
   "name": "python",
   "nbconvert_exporter": "python",
   "pygments_lexer": "ipython3",
   "version": "3.12.3"
  }
 },
 "nbformat": 4,
 "nbformat_minor": 2
}
