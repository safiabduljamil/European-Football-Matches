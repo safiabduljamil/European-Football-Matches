{
 "cells": [
  {
   "cell_type": "code",
   "execution_count": 7,
   "metadata": {},
   "outputs": [
    {
     "name": "stdout",
     "output_type": "stream",
     "text": [
      "              League        Date       HomeTeam      AwayTeam  HomeGoals  \\\n",
      "0       Bundesliga 2    28/07/93       Chemnitz   Wuppertaler        0.0   \n",
      "1       Bundesliga 2    28/07/93        CZ Jena        Hertha        1.0   \n",
      "2       Bundesliga 2    28/07/93  Hansa Rostock   Munich 1860        4.0   \n",
      "3       Bundesliga 2    28/07/93        Homburg      St Pauli        2.0   \n",
      "4       Bundesliga 2    28/07/93       Mannheim        F Koln        1.0   \n",
      "...              ...         ...            ...           ...        ...   \n",
      "433761     Super Lig  07/06/2023       Besiktas     Konyaspor        3.0   \n",
      "433762     Super Lig  07/06/2023     Fenerbahce     Gaziantep        3.0   \n",
      "433763     Super Lig  07/06/2023    Giresunspor   Antalyaspor        2.0   \n",
      "433764     Super Lig  07/06/2023      Hatayspor   Galatasaray        0.0   \n",
      "433765     Super Lig  07/06/2023   Istanbulspor  Umraniyespor        4.0   \n",
      "\n",
      "        AwayGoals Result  \n",
      "0             0.0      D  \n",
      "1             1.0      D  \n",
      "2             0.0      H  \n",
      "3             1.0      H  \n",
      "4             1.0      D  \n",
      "...           ...    ...  \n",
      "433761        3.0      D  \n",
      "433762        0.0      H  \n",
      "433763        0.0      H  \n",
      "433764        3.0      A  \n",
      "433765        0.0      H  \n",
      "\n",
      "[433766 rows x 7 columns]\n"
     ]
    }
   ],
   "source": [
    "import pandas as pd\n",
    "import os\n",
    "\n",
    "# Directory containing the Excel files\n",
    "directory = 'shared-data'\n",
    "\n",
    "# List to hold data from each file\n",
    "data_frames = []\n",
    "\n",
    "# Loop through all files in the directory\n",
    "for filename in os.listdir(directory):\n",
    "    if filename.endswith('.xlsx') or filename.endswith('.xls') or filename.endswith('csv'):\n",
    "        file_path = os.path.join(directory, filename)\n",
    "        # Read the Excel file\n",
    "        if filename.endswith('.csv'):\n",
    "            df = pd.read_csv(file_path)\n",
    "        else:\n",
    "            df = pd.read_excel(file_path, engine='openpyxl')\n",
    "        # Append the DataFrame to the list\n",
    "        data_frames.append(df)\n",
    "\n",
    "# Concatenate all DataFrames\n",
    "combined_df = pd.concat(data_frames, ignore_index=True)\n",
    "\n",
    "# Display the combined DataFrame\n",
    "print(combined_df)"
   ]
  }
 ],
 "metadata": {
  "kernelspec": {
   "display_name": "base",
   "language": "python",
   "name": "python3"
  },
  "language_info": {
   "codemirror_mode": {
    "name": "ipython",
    "version": 3
   },
   "file_extension": ".py",
   "mimetype": "text/x-python",
   "name": "python",
   "nbconvert_exporter": "python",
   "pygments_lexer": "ipython3",
   "version": "3.12.3"
  }
 },
 "nbformat": 4,
 "nbformat_minor": 2
}
